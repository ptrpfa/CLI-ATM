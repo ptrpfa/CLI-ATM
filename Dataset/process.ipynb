{
 "cells": [
  {
   "cell_type": "code",
   "execution_count": 37,
   "metadata": {},
   "outputs": [],
   "source": [
    "\"\"\" Configurations \"\"\"\n",
    "# Imports\n",
    "import os, re, json\n",
    "import pandas as pd\n",
    "\n",
    "# # Google Colab\n",
    "# from google.colab import drive\n",
    "# drive.mount('/content/drive/')\n",
    "# %cd /content/drive/My Drive/Colab Notebooks/\n",
    "\n",
    "# Settings\n",
    "dataset_file = \"files/bank.xlsx\"\n",
    "column_mappings = { \n",
    "                    \"Account No\": \"Account\", \n",
    "                    \"DATE\": \"ValueDate\", \n",
    "                    \"TRANSACTION DETAILS\": \"Remarks\", \n",
    "                    \"CHQ.NO.\": \"ChequeNo\", \n",
    "                    \"VALUE DATE\": \"Date\",\n",
    "                    \"WITHDRAWAL AMT\": \"Credit\", \n",
    "                    \"DEPOSIT AMT\": \"Debit\", \n",
    "                    \"BALANCE AMT\": \"Balance\"\n",
    "                }\n",
    "column_order = [\"Account\", \"ChequeNo\", \"Date\", \"ValueDate\", \"Debit\", \"Credit\", \"Balance\", \"Remarks\"]\n",
    "\n",
    "# Read dataset file\n",
    "df_dataset = pd.read_excel(dataset_file)"
   ]
  },
  {
   "cell_type": "code",
   "execution_count": 38,
   "metadata": {},
   "outputs": [],
   "source": [
    "\"\"\" Preliminary Processing \"\"\"\n",
    "# Drop . column\n",
    "df_dataset.drop(axis = 1, columns = \".\", inplace = True) \n",
    "\n",
    "# Rename columns\n",
    "df_dataset.rename(columns = column_mappings, inplace = True)\n",
    "\n",
    "# Rearrange columns\n",
    "df_dataset = df_dataset[column_order]"
   ]
  },
  {
   "cell_type": "code",
   "execution_count": 44,
   "metadata": {},
   "outputs": [],
   "source": [
    "\"\"\" Data Processing \"\"\"\n",
    "\n",
    "# Remove trailling '\n",
    "df_dataset['Account'] = df_dataset['Account'].str.strip(\"'\")\n"
   ]
  },
  {
   "cell_type": "code",
   "execution_count": 45,
   "metadata": {},
   "outputs": [
    {
     "data": {
      "text/html": [
       "<div>\n",
       "<style scoped>\n",
       "    .dataframe tbody tr th:only-of-type {\n",
       "        vertical-align: middle;\n",
       "    }\n",
       "\n",
       "    .dataframe tbody tr th {\n",
       "        vertical-align: top;\n",
       "    }\n",
       "\n",
       "    .dataframe thead th {\n",
       "        text-align: right;\n",
       "    }\n",
       "</style>\n",
       "<table border=\"1\" class=\"dataframe\">\n",
       "  <thead>\n",
       "    <tr style=\"text-align: right;\">\n",
       "      <th></th>\n",
       "      <th>Account</th>\n",
       "      <th>ChequeNo</th>\n",
       "      <th>Date</th>\n",
       "      <th>ValueDate</th>\n",
       "      <th>Debit</th>\n",
       "      <th>Credit</th>\n",
       "      <th>Balance</th>\n",
       "      <th>Remarks</th>\n",
       "    </tr>\n",
       "  </thead>\n",
       "  <tbody>\n",
       "    <tr>\n",
       "      <th>0</th>\n",
       "      <td>409000611074</td>\n",
       "      <td>NaN</td>\n",
       "      <td>2017-06-29</td>\n",
       "      <td>2017-06-29</td>\n",
       "      <td>1000000.0</td>\n",
       "      <td>NaN</td>\n",
       "      <td>1000000.0</td>\n",
       "      <td>TRF FROM  Indiaforensic SERVICES</td>\n",
       "    </tr>\n",
       "    <tr>\n",
       "      <th>1</th>\n",
       "      <td>409000611074</td>\n",
       "      <td>NaN</td>\n",
       "      <td>2017-07-05</td>\n",
       "      <td>2017-07-05</td>\n",
       "      <td>1000000.0</td>\n",
       "      <td>NaN</td>\n",
       "      <td>2000000.0</td>\n",
       "      <td>TRF FROM  Indiaforensic SERVICES</td>\n",
       "    </tr>\n",
       "    <tr>\n",
       "      <th>2</th>\n",
       "      <td>409000611074</td>\n",
       "      <td>NaN</td>\n",
       "      <td>2017-07-18</td>\n",
       "      <td>2017-07-18</td>\n",
       "      <td>500000.0</td>\n",
       "      <td>NaN</td>\n",
       "      <td>2500000.0</td>\n",
       "      <td>FDRL/INTERNAL FUND TRANSFE</td>\n",
       "    </tr>\n",
       "    <tr>\n",
       "      <th>3</th>\n",
       "      <td>409000611074</td>\n",
       "      <td>NaN</td>\n",
       "      <td>2017-08-01</td>\n",
       "      <td>2017-08-01</td>\n",
       "      <td>3000000.0</td>\n",
       "      <td>NaN</td>\n",
       "      <td>5500000.0</td>\n",
       "      <td>TRF FRM  Indiaforensic SERVICES</td>\n",
       "    </tr>\n",
       "    <tr>\n",
       "      <th>4</th>\n",
       "      <td>409000611074</td>\n",
       "      <td>NaN</td>\n",
       "      <td>2017-08-16</td>\n",
       "      <td>2017-08-16</td>\n",
       "      <td>500000.0</td>\n",
       "      <td>NaN</td>\n",
       "      <td>6000000.0</td>\n",
       "      <td>FDRL/INTERNAL FUND TRANSFE</td>\n",
       "    </tr>\n",
       "  </tbody>\n",
       "</table>\n",
       "</div>"
      ],
      "text/plain": [
       "        Account  ChequeNo       Date  ValueDate      Debit  Credit    Balance  \\\n",
       "0  409000611074       NaN 2017-06-29 2017-06-29  1000000.0     NaN  1000000.0   \n",
       "1  409000611074       NaN 2017-07-05 2017-07-05  1000000.0     NaN  2000000.0   \n",
       "2  409000611074       NaN 2017-07-18 2017-07-18   500000.0     NaN  2500000.0   \n",
       "3  409000611074       NaN 2017-08-01 2017-08-01  3000000.0     NaN  5500000.0   \n",
       "4  409000611074       NaN 2017-08-16 2017-08-16   500000.0     NaN  6000000.0   \n",
       "\n",
       "                            Remarks  \n",
       "0  TRF FROM  Indiaforensic SERVICES  \n",
       "1  TRF FROM  Indiaforensic SERVICES  \n",
       "2        FDRL/INTERNAL FUND TRANSFE  \n",
       "3   TRF FRM  Indiaforensic SERVICES  \n",
       "4        FDRL/INTERNAL FUND TRANSFE  "
      ]
     },
     "execution_count": 45,
     "metadata": {},
     "output_type": "execute_result"
    }
   ],
   "source": [
    "# Preliminary Analysis\n",
    "df_dataset.head()\n",
    "# df_dataset.columns"
   ]
  },
  {
   "cell_type": "code",
   "execution_count": null,
   "metadata": {},
   "outputs": [],
   "source": []
  },
  {
   "cell_type": "code",
   "execution_count": null,
   "metadata": {},
   "outputs": [],
   "source": []
  }
 ],
 "metadata": {
  "kernelspec": {
   "display_name": "Python 3",
   "language": "python",
   "name": "python3"
  },
  "language_info": {
   "codemirror_mode": {
    "name": "ipython",
    "version": 3
   },
   "file_extension": ".py",
   "mimetype": "text/x-python",
   "name": "python",
   "nbconvert_exporter": "python",
   "pygments_lexer": "ipython3",
   "version": "3.10.8"
  },
  "orig_nbformat": 4,
  "vscode": {
   "interpreter": {
    "hash": "b0fa6594d8f4cbf19f97940f81e996739fb7646882a419484c72d19e05852a7e"
   }
  }
 },
 "nbformat": 4,
 "nbformat_minor": 2
}
